{
  "nbformat": 4,
  "nbformat_minor": 0,
  "metadata": {
    "colab": {
      "name": "BlackSwanTechnologies Assignment.ipynb",
      "provenance": [],
      "collapsed_sections": [],
      "toc_visible": true
    },
    "kernelspec": {
      "name": "python3",
      "display_name": "Python 3"
    },
    "language_info": {
      "name": "python"
    }
  },
  "cells": [
    {
      "cell_type": "code",
      "source": [
        "import spacy\n",
        "\n",
        "def get_entity_list_from_text(input_text, language_code): \n",
        "  \"\"\"Returns list of entities extracted using input_text and language code\n",
        "   using Spacy library\n",
        "\n",
        "    \n",
        "    input_text (str): string with text\n",
        "    language_code (str): langauge code \n",
        "    RETURNS (list[dict]): list of entities, each entity is dictionary containing keys\n",
        "      text, type, start_pos, end_pos.\n",
        "      \n",
        "    \"\"\"\n",
        "\n",
        "  if not isinstance(input_text, str): \n",
        "    raise ValueError(f\"input_text is of not string type\") \n",
        "\n",
        "  if not isinstance(language_code, str): \n",
        "    raise ValueError(f\"language_code is of not string type\") \n",
        "\n",
        "\n",
        "  language_to_spacy_models = {\n",
        "      \"ca\": \"ca_core_news_sm\", \n",
        "      \"zh\": \"zh_core_web_sm\", \n",
        "      \"da\": \"da_core_news_sm\", \n",
        "      \"nl\": \"nl_core_news_sm\",\n",
        "      \"en\": \"en_core_web_sm\", \n",
        "      \"fi\": \"fi_core_news_sm\", \n",
        "      'de': 'de_core_news_sm',\n",
        "      'el': 'el_core_news_sm',\n",
        "      'es': 'es_core_news_sm',\n",
        "      'fr': 'fr_core_news_sm',\n",
        "      'it': 'it_core_news_sm',\n",
        "      'ja': 'ja_core_news_sm',\n",
        "      'ko': 'ko_core_news_sm',\n",
        "      'lt': 'lt_core_news_sm',\n",
        "      'mk': 'mk_core_news_sm',\n",
        "      'nb': 'nb_core_news_sm',\n",
        "      'pl': 'pl_core_news_sm',\n",
        "      'pt': 'pt_core_news_sm',\n",
        "      'ro': 'ro_core_news_sm',\n",
        "      'ru': 'ru_core_news_sm',\n",
        "      'sv': 'sv_core_news_sm',\n",
        "      'xx': 'xx_ent_wiki_sm'\n",
        "  }\n",
        "\n",
        "  \n",
        "  model_name = language_to_spacy_models.get(language_code, False)\n",
        "\n",
        "  if model_name:\n",
        "    if not spacy.util.is_package(model_name): \n",
        "      raise ValueError(f\"Please download the model {model_name} by running the following command\\npython -m spacy download {model_name}\") \n",
        "    nlp = spacy.load(language_to_spacy_models[language_code])\n",
        "\n",
        "  else: \n",
        "    raise ValueError(f\"The current language code: {language_code} is not supported by spaCy\") \n",
        "\n",
        "\n",
        "  doc = nlp(input_text)\n",
        "\n",
        "  entity_list = [\n",
        "    {\n",
        "      \"text\": ent.text,\n",
        "      \"type\": ent.label_,\n",
        "      \"start_pos\": ent.start_char,\n",
        "      \"end_pos\": ent.end_char\n",
        "    } \n",
        "    for ent in doc.ents]\n",
        "\n",
        "  return entity_list\n"
      ],
      "metadata": {
        "id": "K0oa2iWVs_wn"
      },
      "execution_count": 113,
      "outputs": []
    },
    {
      "cell_type": "markdown",
      "source": [
        "### Test Case 1: \n",
        "valid input_text and langauge code"
      ],
      "metadata": {
        "id": "Uu2FEvV23DjG"
      }
    },
    {
      "cell_type": "code",
      "source": [
        "get_entity_list_from_text(\"Apple is looking at buying U.K. startup for $1 billion\", \"en\")"
      ],
      "metadata": {
        "colab": {
          "base_uri": "https://localhost:8080/"
        },
        "id": "_zGwLfG_vUXL",
        "outputId": "ef11a31c-0e80-49e7-89ab-fdcbc08089a4"
      },
      "execution_count": 96,
      "outputs": [
        {
          "output_type": "execute_result",
          "data": {
            "text/plain": [
              "[{'end_pos': 5, 'start_pos': 0, 'text': 'Apple', 'type': 'ORG'},\n",
              " {'end_pos': 31, 'start_pos': 27, 'text': 'U.K.', 'type': 'GPE'},\n",
              " {'end_pos': 54, 'start_pos': 44, 'text': '$1 billion', 'type': 'MONEY'}]"
            ]
          },
          "metadata": {},
          "execution_count": 96
        }
      ]
    },
    {
      "cell_type": "markdown",
      "source": [
        "### Test Case 2: \n",
        "invalid input_text data type"
      ],
      "metadata": {
        "id": "Ey-tFUQ23HZD"
      }
    },
    {
      "cell_type": "code",
      "source": [
        "get_entity_list_from_text(1, \"en\")"
      ],
      "metadata": {
        "colab": {
          "base_uri": "https://localhost:8080/",
          "height": 283
        },
        "id": "wAcrb4wFxsfl",
        "outputId": "bd25d134-519c-400e-84e3-88bd506a22c9"
      },
      "execution_count": 98,
      "outputs": [
        {
          "output_type": "error",
          "ename": "ValueError",
          "evalue": "ignored",
          "traceback": [
            "\u001b[0;31m---------------------------------------------------------------------------\u001b[0m",
            "\u001b[0;31mValueError\u001b[0m                                Traceback (most recent call last)",
            "\u001b[0;32m<ipython-input-98-7bbca20ae3bb>\u001b[0m in \u001b[0;36m<module>\u001b[0;34m()\u001b[0m\n\u001b[0;32m----> 1\u001b[0;31m \u001b[0mget_entity_list_from_text\u001b[0m\u001b[0;34m(\u001b[0m\u001b[0;36m1\u001b[0m\u001b[0;34m,\u001b[0m \u001b[0;34m\"en\"\u001b[0m\u001b[0;34m)\u001b[0m\u001b[0;34m\u001b[0m\u001b[0;34m\u001b[0m\u001b[0m\n\u001b[0m",
            "\u001b[0;32m<ipython-input-97-ffc8228a5756>\u001b[0m in \u001b[0;36mget_entity_list_from_text\u001b[0;34m(input_text, language_code)\u001b[0m\n\u001b[1;32m      5\u001b[0m \u001b[0;34m\u001b[0m\u001b[0m\n\u001b[1;32m      6\u001b[0m   \u001b[0;32mif\u001b[0m \u001b[0;32mnot\u001b[0m \u001b[0misinstance\u001b[0m\u001b[0;34m(\u001b[0m\u001b[0minput_text\u001b[0m\u001b[0;34m,\u001b[0m \u001b[0mstr\u001b[0m\u001b[0;34m)\u001b[0m\u001b[0;34m:\u001b[0m\u001b[0;34m\u001b[0m\u001b[0;34m\u001b[0m\u001b[0m\n\u001b[0;32m----> 7\u001b[0;31m     \u001b[0;32mraise\u001b[0m \u001b[0mValueError\u001b[0m\u001b[0;34m(\u001b[0m\u001b[0;34mf\"input_text is of not string type\"\u001b[0m\u001b[0;34m)\u001b[0m\u001b[0;34m\u001b[0m\u001b[0;34m\u001b[0m\u001b[0m\n\u001b[0m\u001b[1;32m      8\u001b[0m \u001b[0;34m\u001b[0m\u001b[0m\n\u001b[1;32m      9\u001b[0m   \u001b[0;32mif\u001b[0m \u001b[0;32mnot\u001b[0m \u001b[0misinstance\u001b[0m\u001b[0;34m(\u001b[0m\u001b[0mlanguage_code\u001b[0m\u001b[0;34m,\u001b[0m \u001b[0mstr\u001b[0m\u001b[0;34m)\u001b[0m\u001b[0;34m:\u001b[0m\u001b[0;34m\u001b[0m\u001b[0;34m\u001b[0m\u001b[0m\n",
            "\u001b[0;31mValueError\u001b[0m: input_text is of not string type"
          ]
        }
      ]
    },
    {
      "cell_type": "markdown",
      "source": [
        "### Test Case 3: \n",
        "invalid langauge code data type"
      ],
      "metadata": {
        "id": "VRWPktbu3OsF"
      }
    },
    {
      "cell_type": "code",
      "source": [
        "get_entity_list_from_text(, 2)"
      ],
      "metadata": {
        "colab": {
          "base_uri": "https://localhost:8080/",
          "height": 283
        },
        "id": "OQfIYKYU21xQ",
        "outputId": "4c70e08f-f3a4-4b3e-b3e6-97ab96ebeff4"
      },
      "execution_count": 99,
      "outputs": [
        {
          "output_type": "error",
          "ename": "ValueError",
          "evalue": "ignored",
          "traceback": [
            "\u001b[0;31m---------------------------------------------------------------------------\u001b[0m",
            "\u001b[0;31mValueError\u001b[0m                                Traceback (most recent call last)",
            "\u001b[0;32m<ipython-input-99-424714d11611>\u001b[0m in \u001b[0;36m<module>\u001b[0;34m()\u001b[0m\n\u001b[0;32m----> 1\u001b[0;31m \u001b[0mget_entity_list_from_text\u001b[0m\u001b[0;34m(\u001b[0m\u001b[0;34m\"Apple is looking at buying U.K. startup for $1 billion\"\u001b[0m\u001b[0;34m,\u001b[0m \u001b[0;36m2\u001b[0m\u001b[0;34m)\u001b[0m\u001b[0;34m\u001b[0m\u001b[0;34m\u001b[0m\u001b[0m\n\u001b[0m",
            "\u001b[0;32m<ipython-input-97-ffc8228a5756>\u001b[0m in \u001b[0;36mget_entity_list_from_text\u001b[0;34m(input_text, language_code)\u001b[0m\n\u001b[1;32m      8\u001b[0m \u001b[0;34m\u001b[0m\u001b[0m\n\u001b[1;32m      9\u001b[0m   \u001b[0;32mif\u001b[0m \u001b[0;32mnot\u001b[0m \u001b[0misinstance\u001b[0m\u001b[0;34m(\u001b[0m\u001b[0mlanguage_code\u001b[0m\u001b[0;34m,\u001b[0m \u001b[0mstr\u001b[0m\u001b[0;34m)\u001b[0m\u001b[0;34m:\u001b[0m\u001b[0;34m\u001b[0m\u001b[0;34m\u001b[0m\u001b[0m\n\u001b[0;32m---> 10\u001b[0;31m     \u001b[0;32mraise\u001b[0m \u001b[0mValueError\u001b[0m\u001b[0;34m(\u001b[0m\u001b[0;34mf\"language_code is of not string type\"\u001b[0m\u001b[0;34m)\u001b[0m\u001b[0;34m\u001b[0m\u001b[0;34m\u001b[0m\u001b[0m\n\u001b[0m\u001b[1;32m     11\u001b[0m \u001b[0;34m\u001b[0m\u001b[0m\n\u001b[1;32m     12\u001b[0m \u001b[0;34m\u001b[0m\u001b[0m\n",
            "\u001b[0;31mValueError\u001b[0m: language_code is of not string type"
          ]
        }
      ]
    },
    {
      "cell_type": "markdown",
      "source": [
        "### Test Case 4\n",
        "Invalid Language code"
      ],
      "metadata": {
        "id": "fK-0hoN73WWk"
      }
    },
    {
      "cell_type": "code",
      "source": [
        "get_entity_list_from_text(\"Apple is looking at buying U.K. startup for $1 billion\", \"wrong_code\")"
      ],
      "metadata": {
        "colab": {
          "base_uri": "https://localhost:8080/",
          "height": 283
        },
        "id": "aP1q8NOR26ZW",
        "outputId": "b163eb99-fee4-4c97-ae98-6eecf07abe2e"
      },
      "execution_count": 100,
      "outputs": [
        {
          "output_type": "error",
          "ename": "ValueError",
          "evalue": "ignored",
          "traceback": [
            "\u001b[0;31m---------------------------------------------------------------------------\u001b[0m",
            "\u001b[0;31mValueError\u001b[0m                                Traceback (most recent call last)",
            "\u001b[0;32m<ipython-input-100-990489842ff4>\u001b[0m in \u001b[0;36m<module>\u001b[0;34m()\u001b[0m\n\u001b[0;32m----> 1\u001b[0;31m \u001b[0mget_entity_list_from_text\u001b[0m\u001b[0;34m(\u001b[0m\u001b[0;34m\"Apple is looking at buying U.K. startup for $1 billion\"\u001b[0m\u001b[0;34m,\u001b[0m \u001b[0;34m\"wrong_code\"\u001b[0m\u001b[0;34m)\u001b[0m\u001b[0;34m\u001b[0m\u001b[0;34m\u001b[0m\u001b[0m\n\u001b[0m",
            "\u001b[0;32m<ipython-input-97-ffc8228a5756>\u001b[0m in \u001b[0;36mget_entity_list_from_text\u001b[0;34m(input_text, language_code)\u001b[0m\n\u001b[1;32m     42\u001b[0m \u001b[0;34m\u001b[0m\u001b[0m\n\u001b[1;32m     43\u001b[0m   \u001b[0;32melse\u001b[0m\u001b[0;34m:\u001b[0m\u001b[0;34m\u001b[0m\u001b[0;34m\u001b[0m\u001b[0m\n\u001b[0;32m---> 44\u001b[0;31m     \u001b[0;32mraise\u001b[0m \u001b[0mValueError\u001b[0m\u001b[0;34m(\u001b[0m\u001b[0;34mf\"The current language code: {language_code} is not supported by spaCy\"\u001b[0m\u001b[0;34m)\u001b[0m\u001b[0;34m\u001b[0m\u001b[0;34m\u001b[0m\u001b[0m\n\u001b[0m\u001b[1;32m     45\u001b[0m \u001b[0;34m\u001b[0m\u001b[0m\n\u001b[1;32m     46\u001b[0m \u001b[0;34m\u001b[0m\u001b[0m\n",
            "\u001b[0;31mValueError\u001b[0m: The current language code: wrong_code is not supported by spaCy"
          ]
        }
      ]
    },
    {
      "cell_type": "code",
      "source": [
        ""
      ],
      "metadata": {
        "id": "mnxM9-I10ifR"
      },
      "execution_count": 100,
      "outputs": []
    },
    {
      "cell_type": "code",
      "source": [
        "# get_entity_list_from_text(\"Questa è una frase.\", \"it\")"
      ],
      "metadata": {
        "id": "RiYRekue0nSh"
      },
      "execution_count": 123,
      "outputs": []
    },
    {
      "cell_type": "code",
      "source": [
        ""
      ],
      "metadata": {
        "id": "j5Bddfei5x0n"
      },
      "execution_count": null,
      "outputs": []
    }
  ]
}